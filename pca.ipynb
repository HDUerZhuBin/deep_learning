{
 "nbformat": 4,
 "nbformat_minor": 2,
 "metadata": {
  "language_info": {
   "name": "python",
   "codemirror_mode": {
    "name": "ipython",
    "version": 3
   }
  },
  "orig_nbformat": 2,
  "file_extension": ".py",
  "mimetype": "text/x-python",
  "name": "python",
  "npconvert_exporter": "python",
  "pygments_lexer": "ipython3",
  "version": 3
 },
 "cells": [
  {
   "cell_type": "code",
   "execution_count": 79,
   "metadata": {},
   "outputs": [],
   "source": [
    "import numpy as np\n",
    "\n",
    "def my_pca(sample_matrix,n_components):\n",
    "\n",
    "    revert_sample_matrix = sample_matrix.T\n",
    "    cov_mat = np.cov(revert_sample_matrix)\n",
    "\n",
    "    # deconstruct the cov_mat into eig_value and eig_vectors\n",
    "    eig_value,eig_vectors = np.linalg.eig(cov_mat)\n",
    "\n",
    "    # pair the eig_value and eig_vectors\n",
    "    pair_zip = zip(eig_value,eig_vectors)\n",
    "    # sorted the pair_zip in reverse,to find the de-order eig_values\n",
    "    sorted_ret = sorted(pair_zip,key=lambda x:x[0],reverse=True)\n",
    "    # selete the k-th max eig-values and construct the transform-vectors\n",
    "    # the shape is (n_components,n_dimesion)\n",
    "    sorted_ret = sorted_ret[:n_components]\n",
    "    target_vectors = list(map(lambda x:x[-1],sorted_ret))\n",
    "    # convert the shape into (n_dimesion,n_components)\n",
    "    transform_vectors = np.array(target_vectors).T\n",
    "\n",
    "    pca_ret = np.dot(sample_matrix,transform_vectors)\n",
    "\n",
    "    return pca_ret"
   ]
  },
  {
   "cell_type": "code",
   "execution_count": 80,
   "metadata": {},
   "outputs": [],
   "source": [
    "temp_samples = np.random.normal(loc=0,scale=1,size=(2000,20))\n",
    "n_components = 5\n",
    "\n",
    "pca_ret = my_pca(temp_samples,n_components)"
   ]
  },
  {
   "cell_type": "code",
   "execution_count": 81,
   "metadata": {},
   "outputs": [
    {
     "data": {
      "text/plain": "(2000, 5)"
     },
     "execution_count": 81,
     "metadata": {},
     "output_type": "execute_result"
    }
   ],
   "source": [
    "pca_ret.shape"
   ]
  },
  {
   "cell_type": "code",
   "execution_count": null,
   "metadata": {},
   "outputs": [],
   "source": []
  }
 ]
}