{
 "cells": [
  {
   "cell_type": "code",
   "execution_count": 1,
   "metadata": {},
   "outputs": [
    {
     "name": "stdout",
     "output_type": "stream",
     "text": [
      "2.0.0-alpha0\n",
      "sys.version_info(major=3, minor=7, micro=1, releaselevel='final', serial=0)\n",
      "matplotlib 3.0.2\n",
      "numpy 1.16.1\n",
      "pandas 0.23.4\n",
      "sklearn 0.21.3\n",
      "tensorflow 2.0.0-alpha0\n",
      "tensorflow.python.keras.api._v2.keras 2.2.4-tf\n"
     ]
    }
   ],
   "source": [
    "import matplotlib as mpl\n",
    "import matplotlib.pyplot as plt\n",
    "%matplotlib inline\n",
    "import numpy as np\n",
    "import sklearn\n",
    "import pandas as pd\n",
    "import os\n",
    "import sys\n",
    "import time\n",
    "\n",
    "import tensorflow as tf\n",
    "from tensorflow import keras\n",
    "\n",
    "print(tf.__version__)\n",
    "print(sys.version_info)\n",
    "for model in mpl,np,pd,sklearn,tf,keras:\n",
    "    print(model.__name__,model.__version__)"
   ]
  },
  {
   "cell_type": "code",
   "execution_count": 2,
   "metadata": {},
   "outputs": [],
   "source": [
    "fashion_mnist = tf.keras.datasets.fashion_mnist\n",
    "# get the train_dataset and test_dataset\n",
    "(train_data,train_labels),(test_data,test_labels) = fashion_mnist.load_data()\n",
    "# split the train_dataset into train_set and valid_set ,to improve the believable the model evalute\n",
    "x_train,x_valid = train_data[5000:],train_data[:5000]\n",
    "y_train,y_valid = train_labels[5000:],train_labels[:5000]"
   ]
  },
  {
   "cell_type": "code",
   "execution_count": 3,
   "metadata": {},
   "outputs": [],
   "source": [
    "from sklearn.preprocessing import StandardScaler\n",
    "\n",
    "scaler = StandardScaler()\n",
    "x_train_scaled = scaler.fit_transform(x_train.astype(np.float32).reshape(-1,1)).reshape(-1,28,28)\n",
    "x_valid_scaled = scaler.transform(x_valid.astype(np.float32).reshape(-1,1)).reshape(-1,28,28)\n",
    "test_data_scaled = scaler.transform(test_data.astype(np.float32).reshape(-1,1)).reshape(-1,28,28)"
   ]
  },
  {
   "cell_type": "code",
   "execution_count": 4,
   "metadata": {},
   "outputs": [
    {
     "name": "stdout",
     "output_type": "stream",
     "text": [
      "255 0\n",
      "2.0231433 -0.8105136\n"
     ]
    }
   ],
   "source": [
    "print(np.max(x_train),np.min(x_train))\n",
    "print(np.max(x_train_scaled),np.min(x_train_scaled))"
   ]
  },
  {
   "cell_type": "code",
   "execution_count": 5,
   "metadata": {},
   "outputs": [],
   "source": [
    "input_shape = (28,28)\n",
    "\n",
    "# model = tf.keras.models.Sequential()\n",
    "# model.add(tf.keras.layers.Flatten(input_shape=input_shape))\n",
    "# model.add(tf.keras.layers.Dense(units=300,activation=\"relu\"))\n",
    "# model.add(tf.keras.layers.Dense(units=100,activation=\"relu\"))\n",
    "# model.add(tf.keras.layers.Dense(units=10,activation=\"softmax\"))\n",
    "\n",
    "model = tf.keras.models.Sequential([\n",
    "    tf.keras.layers.Flatten(input_shape=input_shape),\n",
    "    tf.keras.layers.Dense(units=300,activation=\"relu\"),\n",
    "    tf.keras.layers.Dense(units=100,activation=\"relu\"),\n",
    "    tf.keras.layers.Dense(units=10,activation=\"softmax\")\n",
    "])\n",
    "\n",
    "#relu: y = max(0,x)\n",
    "#softmax: convert into the prob_dis vec,cs 221n\n",
    "\n",
    "model.compile(loss=\"sparse_categorical_crossentropy\",\n",
    "             optimizer=\"sgd\",\n",
    "             metrics=[\"accuracy\"])"
   ]
  },
  {
   "cell_type": "code",
   "execution_count": 6,
   "metadata": {},
   "outputs": [
    {
     "name": "stdout",
     "output_type": "stream",
     "text": [
      "Train on 55000 samples, validate on 5000 samples\n",
      "Epoch 1/10\n",
      "55000/55000 [==============================] - 4s 66us/sample - loss: 3.6428 - accuracy: 0.6400 - val_loss: 0.7295 - val_accuracy: 0.7200\n",
      "Epoch 2/10\n",
      "55000/55000 [==============================] - 3s 57us/sample - loss: 0.6956 - accuracy: 0.7175 - val_loss: 0.6630 - val_accuracy: 0.7242\n",
      "Epoch 3/10\n",
      "55000/55000 [==============================] - 3s 56us/sample - loss: 0.6301 - accuracy: 0.7343 - val_loss: 0.6343 - val_accuracy: 0.7468\n",
      "Epoch 4/10\n",
      "55000/55000 [==============================] - 3s 54us/sample - loss: 0.5909 - accuracy: 0.7466 - val_loss: 0.6139 - val_accuracy: 0.7530\n",
      "Epoch 5/10\n",
      "55000/55000 [==============================] - 3s 58us/sample - loss: 0.5620 - accuracy: 0.7555 - val_loss: 0.5966 - val_accuracy: 0.7742\n",
      "Epoch 6/10\n",
      "55000/55000 [==============================] - 3s 55us/sample - loss: 0.5457 - accuracy: 0.7624 - val_loss: 0.5885 - val_accuracy: 0.7520\n",
      "Epoch 7/10\n",
      "55000/55000 [==============================] - 3s 61us/sample - loss: 0.5197 - accuracy: 0.7799 - val_loss: 0.5380 - val_accuracy: 0.8010\n",
      "Epoch 8/10\n",
      "55000/55000 [==============================] - 3s 58us/sample - loss: 0.4769 - accuracy: 0.8101 - val_loss: 0.5288 - val_accuracy: 0.8108\n",
      "Epoch 9/10\n",
      "55000/55000 [==============================] - 3s 55us/sample - loss: 0.4433 - accuracy: 0.8311 - val_loss: 0.4873 - val_accuracy: 0.8346\n",
      "Epoch 10/10\n",
      "55000/55000 [==============================] - 3s 58us/sample - loss: 0.4192 - accuracy: 0.8385 - val_loss: 0.5090 - val_accuracy: 0.8276\n"
     ]
    }
   ],
   "source": [
    "#tensorboard,earlystopping,modelcheckpoint\n",
    "logdir = \"./callbacks\"\n",
    "if not os.path.exists(logdir):\n",
    "    os.mkdir(logdir)\n",
    "output_model_file = os.path.join(logdir,\n",
    "                                \"fashion_mnist_model.h5\")\n",
    "callbacks = [keras.callbacks.TensorBoard(logdir),\n",
    "             keras.callbacks.ModelCheckpoint(output_model_file,\n",
    "                                  save_best_only=True),\n",
    "             keras.callbacks.EarlyStopping(patience=5,min_delta=1e-3),]\n",
    "\n",
    "\n",
    "history = model.fit(x_train,y_train,epochs=10,\n",
    "         validation_data=(x_valid,y_valid),\n",
    "        callbacks = callbacks)"
   ]
  },
  {
   "cell_type": "code",
   "execution_count": 7,
   "metadata": {},
   "outputs": [
    {
     "data": {
      "image/png": "[encoded data removed]",
      "text/plain": [
       "<Figure size 576x360 with 1 Axes>"
      ]
     },
     "metadata": {
      "needs_background": "light"
     },
     "output_type": "display_data"
    }
   ],
   "source": [
    "def plot_learning_curces(history):\n",
    "    pd.DataFrame(history.history).plot(figsize=(8,5))\n",
    "    plt.grid(True)\n",
    "    plt.gca().set_ylim(0,1)\n",
    "    plt.show()\n",
    "    \n",
    "plot_learning_curces(history)"
   ]
  },
  {
   "cell_type": "code",
   "execution_count": 8,
   "metadata": {},
   "outputs": [
    {
     "name": "stdout",
     "output_type": "stream",
     "text": [
      "10000/10000 [==============================] - 0s 35us/sample - loss: 2.5111 - accuracy: 0.3180\n"
     ]
    },
    {
     "data": {
      "text/plain": [
       "[2.511083014297485, 0.318]"
      ]
     },
     "execution_count": 8,
     "metadata": {},
     "output_type": "execute_result"
    }
   ],
   "source": [
    "model.evaluate(test_data_scaled,test_labels)"
   ]
  },
  {
   "cell_type": "code",
   "execution_count": 9,
   "metadata": {},
   "outputs": [
    {
     "data": {
      "text/plain": [
       "'/home/zhubin/deep_learning'"
      ]
     },
     "execution_count": 9,
     "metadata": {},
     "output_type": "execute_result"
    }
   ],
   "source": [
    "pwd"
   ]
  },
  {
   "cell_type": "code",
   "execution_count": null,
   "metadata": {},
   "outputs": [],
   "source": []
  }
 ],
 "metadata": {
  "kernelspec": {
   "display_name": "Python 3",
   "language": "python",
   "name": "python3"
  },
  "language_info": {
   "codemirror_mode": {
    "name": "ipython",
    "version": 3
   },
   "file_extension": ".py",
   "mimetype": "text/x-python",
   "name": "python",
   "nbconvert_exporter": "python",
   "pygments_lexer": "ipython3",
   "version": "3.7.1"
  }
 },
 "nbformat": 4,
 "nbformat_minor": 2
}
