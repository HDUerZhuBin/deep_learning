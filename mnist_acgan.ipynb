{
 "nbformat": 4,
 "nbformat_minor": 2,
 "metadata": {
  "language_info": {
   "name": "python",
   "codemirror_mode": {
    "name": "ipython",
    "version": 3
   }
  },
  "orig_nbformat": 2,
  "file_extension": ".py",
  "mimetype": "text/x-python",
  "name": "python",
  "npconvert_exporter": "python",
  "pygments_lexer": "ipython3",
  "version": 3
 },
 "cells": [
  {
   "cell_type": "code",
   "execution_count": 10,
   "metadata": {},
   "outputs": [],
   "source": [
    "import numpy as np \n",
    "import pandas as pd\n",
    "import matplotlib.pyplot as plt"
   ]
  },
  {
   "cell_type": "code",
   "execution_count": 22,
   "metadata": {},
   "outputs": [],
   "source": [
    "import keras\n",
    "from keras.datasets import mnist\n",
    "from keras.models import Model,Sequential\n",
    "from keras.layers import Input,Dense,Dropout,Flatten\n",
    "from keras.layers.advanced_activations import LeakyReLU\n",
    "\n",
    "from keras.optimizers import Adam\n",
    "from tqdm import tqdm"
   ]
  },
  {
   "cell_type": "code",
   "execution_count": 23,
   "metadata": {},
   "outputs": [],
   "source": [
    "# reload the load_data\n",
    "def load_data():\n",
    "    (train_data,train_labels),(test_data,test_labels) = mnist.load_data()\n",
    "    train_data = (train_data.astype(np.float32)-127.5)/127.5\n",
    "\n",
    "    train_data = train_data.reshape(train_data.shape[0],-1)\n",
    "\n",
    "    return (train_data,train_labels,test_data,test_labels)"
   ]
  },
  {
   "cell_type": "code",
   "execution_count": 24,
   "metadata": {},
   "outputs": [],
   "source": [
    "train_data,train_labels,test_data,test_labels = load_data()"
   ]
  },
  {
   "cell_type": "code",
   "execution_count": 26,
   "metadata": {},
   "outputs": [
    {
     "name": "stdout",
     "output_type": "stream",
     "text": "train_data.shape:(60000, 784)\ntrain_labels.shape:(60000,)\ntest_data.shape:(10000, 28, 28)\ntest_labels.shape:(10000,)\n"
    }
   ],
   "source": [
    "print(\"train_data.shape:{}\".format(train_data.shape))\n",
    "print(\"train_labels.shape:{}\".format(train_labels.shape))\n",
    "print(\"test_data.shape:{}\".format(test_data.shape))\n",
    "print(\"test_labels.shape:{}\".format(test_labels.shape))"
   ]
  },
  {
   "cell_type": "code",
   "execution_count": 27,
   "metadata": {},
   "outputs": [],
   "source": [
    "# reload the optimizer\n",
    "def adam_optimizer():\n",
    "    return Adam(lr=0.0002,\n",
    "                beta_1=0.5)"
   ]
  },
  {
   "cell_type": "code",
   "execution_count": 31,
   "metadata": {},
   "outputs": [],
   "source": [
    "input_dim = 100\n",
    "\n",
    "def create_generator(input_dim):\n",
    "    generator = Sequential()\n",
    "    generator.add(Dense(units=256,\n",
    "                        input_dim=input_dim))\n",
    "    generator.add(LeakyReLU(alpha=0.2))\n",
    "\n",
    "    generator.add(Dense(units=512))\n",
    "    generator.add(LeakyReLU(alpha=0.2))\n",
    "\n",
    "    generator.add(Dense(units=1024))\n",
    "    generator.add(LeakyReLU(alpha=0.2))\n",
    "\n",
    "    generator.add(Dense(units=784,\n",
    "                  activation=\"tanh\"))\n",
    "\n",
    "    loss = \"binary_crossentropy\"\n",
    "    optimizer = adam_optimizer()\n",
    "\n",
    "    generator.compile(loss=loss,\n",
    "                      optimizer=optimizer)\n",
    "    \n",
    "    return generator"
   ]
  },
  {
   "cell_type": "code",
   "execution_count": 32,
   "metadata": {},
   "outputs": [],
   "source": [
    "generator = create_generator(input_dim)"
   ]
  },
  {
   "cell_type": "code",
   "execution_count": 33,
   "metadata": {},
   "outputs": [
    {
     "name": "stdout",
     "output_type": "stream",
     "text": "Model: \"sequential_2\"\n_________________________________________________________________\nLayer (type)                 Output Shape              Param #   \n=================================================================\ndense_5 (Dense)              (None, 256)               25856     \n_________________________________________________________________\nleaky_re_lu_4 (LeakyReLU)    (None, 256)               0         \n_________________________________________________________________\ndense_6 (Dense)              (None, 512)               131584    \n_________________________________________________________________\nleaky_re_lu_5 (LeakyReLU)    (None, 512)               0         \n_________________________________________________________________\ndense_7 (Dense)              (None, 1024)              525312    \n_________________________________________________________________\nleaky_re_lu_6 (LeakyReLU)    (None, 1024)              0         \n_________________________________________________________________\ndense_8 (Dense)              (None, 784)               803600    \n=================================================================\nTotal params: 1,486,352\nTrainable params: 1,486,352\nNon-trainable params: 0\n_________________________________________________________________\n"
    }
   ],
   "source": [
    "generator.summary()"
   ]
  },
  {
   "cell_type": "code",
   "execution_count": 37,
   "metadata": {},
   "outputs": [],
   "source": [
    "def create_discriminator():\n",
    "    discriminator = Sequential()\n",
    "    discriminator.add(Dense(units=1024,\n",
    "                       input_dim=784))\n",
    "    discriminator.add(LeakyReLU(alpha=0.2))\n",
    "    discriminator.add(Dropout(rate=0.3))\n",
    "\n",
    "    discriminator.add(Dense(units=512))\n",
    "    discriminator.add(LeakyReLU(alpha=0.2))\n",
    "    discriminator.add(Dropout(rate=0.3))\n",
    "\n",
    "    discriminator.add(Dense(units=256))\n",
    "    discriminator.add(LeakyReLU(alpha=0.2))\n",
    "\n",
    "    discriminator.add(Dense(units=1,\n",
    "                            activation=\"sigmoid\"))\n",
    "\n",
    "    loss = \"binary_crossentropy\"\n",
    "    optimizer = adam_optimizer()\n",
    "\n",
    "    discriminator.compile(loss=loss,\n",
    "                          optimizer=optimizer)\n",
    "\n",
    "    return discriminator"
   ]
  },
  {
   "cell_type": "code",
   "execution_count": 38,
   "metadata": {},
   "outputs": [],
   "source": [
    "discriminator = create_discriminator()"
   ]
  },
  {
   "cell_type": "code",
   "execution_count": 39,
   "metadata": {},
   "outputs": [
    {
     "name": "stdout",
     "output_type": "stream",
     "text": "Model: \"sequential_4\"\n_________________________________________________________________\nLayer (type)                 Output Shape              Param #   \n=================================================================\ndense_13 (Dense)             (None, 1024)              803840    \n_________________________________________________________________\nleaky_re_lu_10 (LeakyReLU)   (None, 1024)              0         \n_________________________________________________________________\ndropout_3 (Dropout)          (None, 1024)              0         \n_________________________________________________________________\ndense_14 (Dense)             (None, 512)               524800    \n_________________________________________________________________\nleaky_re_lu_11 (LeakyReLU)   (None, 512)               0         \n_________________________________________________________________\ndropout_4 (Dropout)          (None, 512)               0         \n_________________________________________________________________\ndense_15 (Dense)             (None, 256)               131328    \n_________________________________________________________________\nleaky_re_lu_12 (LeakyReLU)   (None, 256)               0         \n_________________________________________________________________\ndense_16 (Dense)             (None, 1)                 257       \n=================================================================\nTotal params: 1,460,225\nTrainable params: 1,460,225\nNon-trainable params: 0\n_________________________________________________________________\n"
    }
   ],
   "source": [
    "discriminator.summary()"
   ]
  },
  {
   "cell_type": "code",
   "execution_count": 49,
   "metadata": {},
   "outputs": [],
   "source": [
    "def create_gan(generator,discriminator):\n",
    "    discriminator.trainable = False\n",
    "    gan_input = Input((100,))\n",
    "    x = generator(gan_input)\n",
    "    gan_output = discriminator(x)\n",
    "\n",
    "    gan_model = Model(gan_input,gan_output)\n",
    "    loss = \"binary_crossentropy\"\n",
    "    optimizer = \"adam\"\n",
    "\n",
    "    gan_model.compile(loss=loss,\n",
    "                      optimizer=optimizer)\n",
    "\n",
    "    return gan_model"
   ]
  },
  {
   "cell_type": "code",
   "execution_count": 50,
   "metadata": {},
   "outputs": [],
   "source": [
    "gan = create_gan(generator,discriminator)"
   ]
  },
  {
   "cell_type": "code",
   "execution_count": 51,
   "metadata": {},
   "outputs": [
    {
     "name": "stdout",
     "output_type": "stream",
     "text": "Model: \"model_1\"\n_________________________________________________________________\nLayer (type)                 Output Shape              Param #   \n=================================================================\ninput_3 (InputLayer)         (None, 100)               0         \n_________________________________________________________________\nsequential_2 (Sequential)    (None, 784)               1486352   \n_________________________________________________________________\nsequential_4 (Sequential)    (None, 1)                 1460225   \n=================================================================\nTotal params: 2,946,577\nTrainable params: 1,486,352\nNon-trainable params: 1,460,225\n_________________________________________________________________\n"
    }
   ],
   "source": [
    "gan.summary()"
   ]
  },
  {
   "cell_type": "code",
   "execution_count": 1,
   "metadata": {},
   "outputs": [],
   "source": [
    "def plot_generated_images(epoch,generator,examples=100,dim=(10,10),figsize=(10,10)):\n",
    "    noise = np.random.normal(loc=0.0,scale=1.0,size=(examples,100))\n",
    "    generator_images = generator.predict(noise).reshape(examples,28,28)\n",
    "    plt.figure(figsize=figsize)\n",
    "    for i in range(generator_images.shape[0]):\n",
    "        plt.subplot(dim[0],dim[1],i+1)\n",
    "        plt.imshow(generator_images[i],interpolation=\"nearest\")\n",
    "        plt.axis(\"off\")\n",
    "\n",
    "    plt.tight_layout()\n",
    "    plt.savefig(\"gan_generator_image %d.png\"%epoch)"
   ]
  },
  {
   "cell_type": "code",
   "execution_count": null,
   "metadata": {},
   "outputs": [],
   "source": [
    "def training(epochs=1,batch_size=128):\n",
    "    #load the data\n",
    "    train_data,train_labels,test_data,test_labels = load_data()\n",
    "    batch_count = train_data/batch_size\n",
    "\n",
    "    # create gan-networks\n",
    "    generator = create_generator(100)\n",
    "    discriminator = create_discriminator()\n",
    "    gan = create_gan(generator,discriminator)\n",
    "\n",
    "    for epoch in range(1,epochs+1):\n",
    "        print(\"Epoch %d \" % epoch)\n",
    "        for _ in tqdm()"
   ]
  }
 ]
}