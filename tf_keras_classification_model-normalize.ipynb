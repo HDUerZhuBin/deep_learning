{
 "cells": [
  {
   "cell_type": "code",
   "execution_count": 1,
   "metadata": {},
   "outputs": [
    {
     "name": "stdout",
     "output_type": "stream",
     "text": [
      "2.0.0-alpha0\n",
      "sys.version_info(major=3, minor=7, micro=1, releaselevel='final', serial=0)\n",
      "matplotlib 3.0.2\n",
      "numpy 1.16.1\n",
      "pandas 0.23.4\n",
      "sklearn 0.21.3\n",
      "tensorflow 2.0.0-alpha0\n",
      "tensorflow.python.keras.api._v2.keras 2.2.4-tf\n"
     ]
    }
   ],
   "source": [
    "import matplotlib as mpl\n",
    "import matplotlib.pyplot as plt\n",
    "%matplotlib inline\n",
    "import numpy as np\n",
    "import sklearn\n",
    "import pandas as pd\n",
    "import os\n",
    "import sys\n",
    "import time\n",
    "\n",
    "import tensorflow as tf\n",
    "from tensorflow import keras\n",
    "\n",
    "print(tf.__version__)\n",
    "print(sys.version_info)\n",
    "for model in mpl,np,pd,sklearn,tf,keras:\n",
    "    print(model.__name__,model.__version__)"
   ]
  },
  {
   "cell_type": "code",
   "execution_count": 2,
   "metadata": {},
   "outputs": [],
   "source": [
    "fashion_mnist = tf.keras.datasets.fashion_mnist\n",
    "# get the train_dataset and test_dataset\n",
    "(train_data,train_labels),(test_data,test_labels) = fashion_mnist.load_data()\n",
    "# split the train_dataset into train_set and valid_set ,to improve the believable the model evalute\n",
    "x_train,x_valid = train_data[5000:],train_data[:5000]\n",
    "y_train,y_valid = train_labels[5000:],train_labels[:5000]"
   ]
  },
  {
   "cell_type": "code",
   "execution_count": 3,
   "metadata": {},
   "outputs": [],
   "source": [
    "from sklearn.preprocessing import StandardScaler\n",
    "\n",
    "scaler = StandardScaler()\n",
    "x_train_scaled = scaler.fit_transform(x_train.astype(np.float32).reshape(-1,1)).reshape(-1,28,28)\n",
    "x_valid_scaled = scaler.transform(x_valid.astype(np.float32).reshape(-1,1)).reshape(-1,28,28)\n",
    "test_data_scaled = scaler.transform(test_data.astype(np.float32).reshape(-1,1)).reshape(-1,28,28)"
   ]
  },
  {
   "cell_type": "code",
   "execution_count": 4,
   "metadata": {},
   "outputs": [
    {
     "name": "stdout",
     "output_type": "stream",
     "text": [
      "255 0\n",
      "2.0231433 -0.8105136\n"
     ]
    }
   ],
   "source": [
    "print(np.max(x_train),np.min(x_train))\n",
    "print(np.max(x_train_scaled),np.min(x_train_scaled))"
   ]
  },
  {
   "cell_type": "code",
   "execution_count": 5,
   "metadata": {},
   "outputs": [],
   "source": [
    "input_shape = (28,28)\n",
    "\n",
    "# model = tf.keras.models.Sequential()\n",
    "# model.add(tf.keras.layers.Flatten(input_shape=input_shape))\n",
    "# model.add(tf.keras.layers.Dense(units=300,activation=\"relu\"))\n",
    "# model.add(tf.keras.layers.Dense(units=100,activation=\"relu\"))\n",
    "# model.add(tf.keras.layers.Dense(units=10,activation=\"softmax\"))\n",
    "\n",
    "model = tf.keras.models.Sequential([\n",
    "    tf.keras.layers.Flatten(input_shape=input_shape),\n",
    "    tf.keras.layers.Dense(units=300,activation=\"relu\"),\n",
    "    tf.keras.layers.Dense(units=100,activation=\"relu\"),\n",
    "    tf.keras.layers.Dense(units=10,activation=\"softmax\")\n",
    "])\n",
    "\n",
    "#relu: y = max(0,x)\n",
    "#softmax: convert into the prob_dis vec,cs 221n\n",
    "\n",
    "model.compile(loss=\"sparse_categorical_crossentropy\",\n",
    "             optimizer=\"sgd\",\n",
    "             metrics=[\"accuracy\"])"
   ]
  },
  {
   "cell_type": "code",
   "execution_count": 6,
   "metadata": {},
   "outputs": [
    {
     "name": "stdout",
     "output_type": "stream",
     "text": [
      "Train on 55000 samples, validate on 5000 samples\n",
      "Epoch 1/10\n",
      "55000/55000 [==============================] - 3s 49us/sample - loss: 2.6642 - accuracy: 0.6989 - val_loss: 0.7312 - val_accuracy: 0.7638\n",
      "Epoch 2/10\n",
      "55000/55000 [==============================] - 3s 47us/sample - loss: 0.6518 - accuracy: 0.7637 - val_loss: 0.6353 - val_accuracy: 0.7790\n",
      "Epoch 3/10\n",
      "55000/55000 [==============================] - 2s 44us/sample - loss: 0.5737 - accuracy: 0.7824 - val_loss: 0.6103 - val_accuracy: 0.7900\n",
      "Epoch 4/10\n",
      "55000/55000 [==============================] - 3s 46us/sample - loss: 0.5291 - accuracy: 0.7992 - val_loss: 0.5728 - val_accuracy: 0.8004\n",
      "Epoch 5/10\n",
      "55000/55000 [==============================] - 2s 45us/sample - loss: 0.4940 - accuracy: 0.8143 - val_loss: 0.5519 - val_accuracy: 0.8136\n",
      "Epoch 6/10\n",
      "55000/55000 [==============================] - 3s 46us/sample - loss: 0.4546 - accuracy: 0.8300 - val_loss: 0.5156 - val_accuracy: 0.8258\n",
      "Epoch 7/10\n",
      "55000/55000 [==============================] - 2s 44us/sample - loss: 0.4344 - accuracy: 0.8384 - val_loss: 0.5204 - val_accuracy: 0.8322\n",
      "Epoch 8/10\n",
      "55000/55000 [==============================] - 3s 46us/sample - loss: 0.4194 - accuracy: 0.8453 - val_loss: 0.5271 - val_accuracy: 0.8284\n",
      "Epoch 9/10\n",
      "55000/55000 [==============================] - 2s 44us/sample - loss: 0.4055 - accuracy: 0.8494 - val_loss: 0.5292 - val_accuracy: 0.8152\n",
      "Epoch 10/10\n",
      "55000/55000 [==============================] - 3s 47us/sample - loss: 0.3941 - accuracy: 0.8557 - val_loss: 0.4939 - val_accuracy: 0.8380\n"
     ]
    }
   ],
   "source": [
    "history = model.fit(x_train,y_train,epochs=10,\n",
    "         validation_data=(x_valid,y_valid))"
   ]
  },
  {
   "cell_type": "code",
   "execution_count": 7,
   "metadata": {},
   "outputs": [
    {
     "data": {
      "image/png": "[encoded data removed]",
      "text/plain": [
       "<Figure size 576x360 with 1 Axes>"
      ]
     },
     "metadata": {
      "needs_background": "light"
     },
     "output_type": "display_data"
    }
   ],
   "source": [
    "def plot_learning_curces(history):\n",
    "    pd.DataFrame(history.history).plot(figsize=(8,5))\n",
    "    plt.grid(True)\n",
    "    plt.gca().set_ylim(0,1)\n",
    "    plt.show()\n",
    "    \n",
    "plot_learning_curces(history)"
   ]
  },
  {
   "cell_type": "code",
   "execution_count": 8,
   "metadata": {},
   "outputs": [
    {
     "name": "stdout",
     "output_type": "stream",
     "text": [
      "10000/10000 [==============================] - 0s 26us/sample - loss: 1.7725 - accuracy: 0.4145\n"
     ]
    },
    {
     "data": {
      "text/plain": [
       "[1.7724916309356689, 0.4145]"
      ]
     },
     "execution_count": 8,
     "metadata": {},
     "output_type": "execute_result"
    }
   ],
   "source": [
    "model.evaluate(test_data_scaled,test_labels)"
   ]
  },
  {
   "cell_type": "code",
   "execution_count": null,
   "metadata": {},
   "outputs": [],
   "source": []
  },
  {
   "cell_type": "code",
   "execution_count": null,
   "metadata": {},
   "outputs": [],
   "source": []
  }
 ],
 "metadata": {
  "kernelspec": {
   "display_name": "Python 3",
   "language": "python",
   "name": "python3"
  },
  "language_info": {
   "codemirror_mode": {
    "name": "ipython",
    "version": 3
   },
   "file_extension": ".py",
   "mimetype": "text/x-python",
   "name": "python",
   "nbconvert_exporter": "python",
   "pygments_lexer": "ipython3",
   "version": "3.7.1"
  }
 },
 "nbformat": 4,
 "nbformat_minor": 2
}
