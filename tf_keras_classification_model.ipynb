{
 "cells": [
  {
   "cell_type": "code",
   "execution_count": 1,
   "metadata": {},
   "outputs": [
    {
     "name": "stdout",
     "output_type": "stream",
     "text": [
      "2.0.0-alpha0\n",
      "sys.version_info(major=3, minor=7, micro=1, releaselevel='final', serial=0)\n",
      "matplotlib 3.0.2\n",
      "numpy 1.16.1\n",
      "pandas 0.23.4\n",
      "sklearn 0.21.3\n",
      "tensorflow 2.0.0-alpha0\n",
      "tensorflow.python.keras.api._v2.keras 2.2.4-tf\n"
     ]
    }
   ],
   "source": [
    "import matplotlib as mpl\n",
    "import matplotlib.pyplot as plt\n",
    "%matplotlib inline\n",
    "import numpy as np\n",
    "import sklearn\n",
    "import pandas as pd\n",
    "import os\n",
    "import sys\n",
    "import time\n",
    "\n",
    "import tensorflow as tf\n",
    "from tensorflow import keras\n",
    "\n",
    "print(tf.__version__)\n",
    "print(sys.version_info)\n",
    "for model in mpl,np,pd,sklearn,tf,keras:\n",
    "    print(model.__name__,model.__version__)"
   ]
  },
  {
   "cell_type": "code",
   "execution_count": 2,
   "metadata": {},
   "outputs": [],
   "source": [
    "fashion_mnist = tf.keras.datasets.fashion_mnist\n",
    "# get the train_dataset and test_dataset\n",
    "(train_data,train_labels),(test_data,test_labels) = fashion_mnist.load_data()\n",
    "# split the train_dataset into train_set and valid_set ,to improve the believable the model evalute\n",
    "x_train,x_valid = train_data[5000:],train_data[:5000]\n",
    "y_train,y_valid = train_labels[5000:],train_labels[:5000]"
   ]
  },
  {
   "cell_type": "code",
   "execution_count": 3,
   "metadata": {},
   "outputs": [
    {
     "name": "stdout",
     "output_type": "stream",
     "text": [
      "(55000, 28, 28)\n",
      "(55000,)\n",
      "(5000, 28, 28)\n",
      "(5000,)\n",
      "(10000, 28, 28)\n",
      "(10000,)\n"
     ]
    }
   ],
   "source": [
    "print(x_train.shape)\n",
    "print(y_train.shape)\n",
    "print(x_valid.shape)\n",
    "print(y_valid.shape)\n",
    "print(test_data.shape)\n",
    "print(test_labels.shape)"
   ]
  },
  {
   "cell_type": "code",
   "execution_count": 4,
   "metadata": {},
   "outputs": [],
   "source": [
    "input_shape = (28,28)\n",
    "\n",
    "# model = tf.keras.models.Sequential()\n",
    "# model.add(tf.keras.layers.Flatten(input_shape=input_shape))\n",
    "# model.add(tf.keras.layers.Dense(units=300,activation=\"relu\"))\n",
    "# model.add(tf.keras.layers.Dense(units=100,activation=\"relu\"))\n",
    "# model.add(tf.keras.layers.Dense(units=10,activation=\"softmax\"))\n",
    "\n",
    "model = tf.keras.models.Sequential([\n",
    "    tf.keras.layers.Flatten(input_shape=input_shape),\n",
    "    tf.keras.layers.Dense(units=300,activation=\"relu\"),\n",
    "    tf.keras.layers.Dense(units=100,activation=\"relu\"),\n",
    "    tf.keras.layers.Dense(units=10,activation=\"softmax\")\n",
    "])\n",
    "\n",
    "#relu: y = max(0,x)\n",
    "#softmax: convert into the prob_dis vec,cs 221n\n",
    "\n",
    "model.compile(loss=\"sparse_categorical_crossentropy\",\n",
    "             optimizer=\"sgd\",\n",
    "             metrics=[\"accuracy\"])"
   ]
  },
  {
   "cell_type": "code",
   "execution_count": 5,
   "metadata": {},
   "outputs": [
    {
     "data": {
      "text/plain": [
       "[<tensorflow.python.keras.layers.core.Flatten at 0x7f178e96a7f0>,\n",
       " <tensorflow.python.keras.layers.core.Dense at 0x7f178e96aba8>,\n",
       " <tensorflow.python.keras.layers.core.Dense at 0x7f178e96aeb8>,\n",
       " <tensorflow.python.keras.layers.core.Dense at 0x7f178b4c6208>]"
      ]
     },
     "execution_count": 5,
     "metadata": {},
     "output_type": "execute_result"
    }
   ],
   "source": [
    "model.layers"
   ]
  },
  {
   "cell_type": "code",
   "execution_count": 6,
   "metadata": {},
   "outputs": [
    {
     "name": "stdout",
     "output_type": "stream",
     "text": [
      "Model: \"sequential\"\n",
      "_________________________________________________________________\n",
      "Layer (type)                 Output Shape              Param #   \n",
      "=================================================================\n",
      "flatten (Flatten)            (None, 784)               0         \n",
      "_________________________________________________________________\n",
      "dense (Dense)                (None, 300)               235500    \n",
      "_________________________________________________________________\n",
      "dense_1 (Dense)              (None, 100)               30100     \n",
      "_________________________________________________________________\n",
      "dense_2 (Dense)              (None, 10)                1010      \n",
      "=================================================================\n",
      "Total params: 266,610\n",
      "Trainable params: 266,610\n",
      "Non-trainable params: 0\n",
      "_________________________________________________________________\n"
     ]
    }
   ],
   "source": [
    "model.summary()"
   ]
  },
  {
   "cell_type": "code",
   "execution_count": 7,
   "metadata": {},
   "outputs": [
    {
     "name": "stdout",
     "output_type": "stream",
     "text": [
      "Train on 55000 samples, validate on 5000 samples\n",
      "Epoch 1/10\n",
      "55000/55000 [==============================] - 3s 58us/sample - loss: 2.3174 - accuracy: 0.6955 - val_loss: 0.8245 - val_accuracy: 0.6812\n",
      "Epoch 2/10\n",
      "55000/55000 [==============================] - 3s 62us/sample - loss: 0.6329 - accuracy: 0.7706 - val_loss: 0.6387 - val_accuracy: 0.7892\n",
      "Epoch 3/10\n",
      "55000/55000 [==============================] - 3s 63us/sample - loss: 0.5519 - accuracy: 0.7990 - val_loss: 0.5691 - val_accuracy: 0.8188\n",
      "Epoch 4/10\n",
      "55000/55000 [==============================] - 3s 60us/sample - loss: 0.4905 - accuracy: 0.8242 - val_loss: 0.5180 - val_accuracy: 0.8324\n",
      "Epoch 5/10\n",
      "55000/55000 [==============================] - 3s 59us/sample - loss: 0.4543 - accuracy: 0.8357 - val_loss: 0.5186 - val_accuracy: 0.8344\n",
      "Epoch 6/10\n",
      "55000/55000 [==============================] - 3s 63us/sample - loss: 0.4286 - accuracy: 0.8442 - val_loss: 0.4990 - val_accuracy: 0.8354\n",
      "Epoch 7/10\n",
      "55000/55000 [==============================] - 4s 65us/sample - loss: 0.4095 - accuracy: 0.8502 - val_loss: 0.4972 - val_accuracy: 0.8392\n",
      "Epoch 8/10\n",
      "55000/55000 [==============================] - 3s 59us/sample - loss: 0.3941 - accuracy: 0.8544 - val_loss: 0.4655 - val_accuracy: 0.8492\n",
      "Epoch 9/10\n",
      "55000/55000 [==============================] - 3s 60us/sample - loss: 0.3834 - accuracy: 0.8591 - val_loss: 0.4766 - val_accuracy: 0.8450\n",
      "Epoch 10/10\n",
      "55000/55000 [==============================] - 3s 63us/sample - loss: 0.3720 - accuracy: 0.8622 - val_loss: 0.4970 - val_accuracy: 0.8378\n"
     ]
    }
   ],
   "source": [
    "history = model.fit(x_train,y_train,epochs=10,\n",
    "         validation_data=(x_valid,y_valid))"
   ]
  },
  {
   "cell_type": "code",
   "execution_count": 8,
   "metadata": {},
   "outputs": [
    {
     "data": {
      "text/plain": [
       "tensorflow.python.keras.callbacks.History"
      ]
     },
     "execution_count": 8,
     "metadata": {},
     "output_type": "execute_result"
    }
   ],
   "source": [
    "type(history)"
   ]
  },
  {
   "cell_type": "code",
   "execution_count": 9,
   "metadata": {},
   "outputs": [
    {
     "data": {
      "text/plain": [
       "dict_keys(['loss', 'accuracy', 'val_loss', 'val_accuracy'])"
      ]
     },
     "execution_count": 9,
     "metadata": {},
     "output_type": "execute_result"
    }
   ],
   "source": [
    "history.history.keys()"
   ]
  },
  {
   "cell_type": "code",
   "execution_count": 11,
   "metadata": {},
   "outputs": [
    {
     "data": {
      "image/png": "[encoded data removed]",
      "text/plain": [
       "<Figure size 576x360 with 1 Axes>"
      ]
     },
     "metadata": {
      "needs_background": "light"
     },
     "output_type": "display_data"
    }
   ],
   "source": [
    "def plot_learning_curces(history):\n",
    "    pd.DataFrame(history.history).plot(figsize=(8,5))\n",
    "    plt.grid(True)\n",
    "    plt.gca().set_ylim(0,1)\n",
    "    plt.show()\n",
    "    \n",
    "plot_learning_curces(history)"
   ]
  },
  {
   "cell_type": "code",
   "execution_count": null,
   "metadata": {},
   "outputs": [],
   "source": []
  }
 ],
 "metadata": {
  "kernelspec": {
   "display_name": "Python 3",
   "language": "python",
   "name": "python3"
  },
  "language_info": {
   "codemirror_mode": {
    "name": "ipython",
    "version": 3
   },
   "file_extension": ".py",
   "mimetype": "text/x-python",
   "name": "python",
   "nbconvert_exporter": "python",
   "pygments_lexer": "ipython3",
   "version": "3.7.1"
  }
 },
 "nbformat": 4,
 "nbformat_minor": 2
}
