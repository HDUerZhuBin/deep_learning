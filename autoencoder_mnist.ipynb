{
 "cells": [
  {
   "cell_type": "code",
   "execution_count": 1,
   "metadata": {},
   "outputs": [
    {
     "name": "stderr",
     "output_type": "stream",
     "text": "Using TensorFlow backend.\n"
    }
   ],
   "source": [
    "import numpy as numpy\n",
    "import keras\n",
    "from keras.datasets import mnist\n",
    "from keras.models import Sequential,Model\n",
    "from keras.layers import Dense,Input\n",
    "from keras import optimizers\n",
    "from keras.optimizers import Adam"
   ]
  },
  {
   "cell_type": "code",
   "execution_count": 2,
   "metadata": {},
   "outputs": [],
   "source": [
    "(train_data,train_labels), (test_data,test_labels) = mnist.load_data()"
   ]
  },
  {
   "cell_type": "code",
   "execution_count": 3,
   "metadata": {},
   "outputs": [
    {
     "name": "stdout",
     "output_type": "stream",
     "text": "train_data.shape:(60000, 28, 28)\ntrain_labels.shape:(60000,)\ntest_data.shape:(10000, 28, 28)\ntest_labels.shape:(10000,)\n"
    }
   ],
   "source": [
    "print(\"train_data.shape:{}\".format(train_data.shape))\n",
    "print(\"train_labels.shape:{}\".format(train_labels.shape))\n",
    "print(\"test_data.shape:{}\".format(test_data.shape))\n",
    "print(\"test_labels.shape:{}\".format(test_labels.shape))"
   ]
  },
  {
   "cell_type": "code",
   "execution_count": 4,
   "metadata": {},
   "outputs": [],
   "source": [
    "train_data = train_data.reshape(train_data.shape[0],-1)/255\n",
    "test_data = test_data.reshape(test_data.shape[0],-1)/255\n",
    "\n",
    "input_shape = (train_data.shape[-1],)"
   ]
  },
  {
   "cell_type": "code",
   "execution_count": 5,
   "metadata": {},
   "outputs": [],
   "source": [
    "autoencoder = Sequential()\n",
    "autoencoder.add(Dense(units=512,activation=\"elu\",input_shape=input_shape))\n",
    "autoencoder.add(Dense(units=128,activation=\"elu\"))\n",
    "autoencoder.add(Dense(units=10,activation=\"linear\",name=\"bottleneck\"))\n",
    "autoencoder.add(Dense(units=128,activation=\"elu\"))\n",
    "autoencoder.add(Dense(units=512,activation=\"elu\"))\n",
    "autoencoder.add(Dense(units=train_data.shape[-1],activation=\"sigmoid\"))"
   ]
  },
  {
   "cell_type": "code",
   "execution_count": 6,
   "metadata": {},
   "outputs": [],
   "source": [
    "loss = \"mean_squared_error\"\n",
    "optimizer = Adam()\n",
    "# metrics = [\"accuracy\"]\n",
    "autoencoder.compile(loss=loss,\n",
    "                    optimizer=optimizer)\n",
    "                    # metrics = metrics)"
   ]
  },
  {
   "cell_type": "code",
   "execution_count": 7,
   "metadata": {},
   "outputs": [
    {
     "name": "stdout",
     "output_type": "stream",
     "text": "Model: \"sequential_1\"\n_________________________________________________________________\nLayer (type)                 Output Shape              Param #   \n=================================================================\ndense_1 (Dense)              (None, 512)               401920    \n_________________________________________________________________\ndense_2 (Dense)              (None, 128)               65664     \n_________________________________________________________________\nbottleneck (Dense)           (None, 10)                1290      \n_________________________________________________________________\ndense_3 (Dense)              (None, 128)               1408      \n_________________________________________________________________\ndense_4 (Dense)              (None, 512)               66048     \n_________________________________________________________________\ndense_5 (Dense)              (None, 784)               402192    \n=================================================================\nTotal params: 938,522\nTrainable params: 938,522\nNon-trainable params: 0\n_________________________________________________________________\n"
    }
   ],
   "source": [
    "autoencoder.summary()"
   ]
  },
  {
   "cell_type": "code",
   "execution_count": 8,
   "metadata": {},
   "outputs": [
    {
     "name": "stdout",
     "output_type": "stream",
     "text": "Train on 60000 samples, validate on 10000 samples\nEpoch 1/10\n60000/60000 [==============================] - 1s 18us/step - loss: 0.0741 - val_loss: 0.0475\nEpoch 2/10\n60000/60000 [==============================] - 1s 12us/step - loss: 0.0417 - val_loss: 0.0367\nEpoch 3/10\n60000/60000 [==============================] - 1s 11us/step - loss: 0.0341 - val_loss: 0.0302\nEpoch 4/10\n60000/60000 [==============================] - 1s 12us/step - loss: 0.0286 - val_loss: 0.0263\nEpoch 5/10\n60000/60000 [==============================] - 1s 11us/step - loss: 0.0258 - val_loss: 0.0244\nEpoch 6/10\n60000/60000 [==============================] - 1s 12us/step - loss: 0.0241 - val_loss: 0.0229\nEpoch 7/10\n60000/60000 [==============================] - 1s 11us/step - loss: 0.0228 - val_loss: 0.0219\nEpoch 8/10\n60000/60000 [==============================] - 1s 11us/step - loss: 0.0218 - val_loss: 0.0210\nEpoch 9/10\n60000/60000 [==============================] - 1s 12us/step - loss: 0.0208 - val_loss: 0.0201\nEpoch 10/10\n60000/60000 [==============================] - 1s 11us/step - loss: 0.0200 - val_loss: 0.0194\n"
    }
   ],
   "source": [
    "batch_size = 1024\n",
    "epochs = 10\n",
    "verbose = 1\n",
    "validation_data = (test_data,test_data)\n",
    "\n",
    "trained_model = autoencoder.fit(train_data,train_data,\n",
    "                                batch_size=batch_size,\n",
    "                                epochs=epochs,\n",
    "                                verbose=verbose,\n",
    "                                validation_data=validation_data)"
   ]
  },
  {
   "cell_type": "code",
   "execution_count": 9,
   "metadata": {},
   "outputs": [],
   "source": [
    "encoder = Model(autoencoder.input,\n",
    "                autoencoder.get_layer(\"bottleneck\").output)\n",
    "encoder_data = encoder.predict(train_data)"
   ]
  },
  {
   "cell_type": "code",
   "execution_count": 10,
   "metadata": {},
   "outputs": [
    {
     "name": "stdout",
     "output_type": "stream",
     "text": "Model: \"model_1\"\n_________________________________________________________________\nLayer (type)                 Output Shape              Param #   \n=================================================================\ndense_1_input (InputLayer)   (None, 784)               0         \n_________________________________________________________________\ndense_1 (Dense)              (None, 512)               401920    \n_________________________________________________________________\ndense_2 (Dense)              (None, 128)               65664     \n_________________________________________________________________\nbottleneck (Dense)           (None, 10)                1290      \n=================================================================\nTotal params: 468,874\nTrainable params: 468,874\nNon-trainable params: 0\n_________________________________________________________________\n"
    }
   ],
   "source": [
    "encoder.summary()"
   ]
  },
  {
   "cell_type": "code",
   "execution_count": 14,
   "metadata": {},
   "outputs": [],
   "source": [
    "decoded_output = autoencoder.predict(train_data)"
   ]
  },
  {
   "cell_type": "code",
   "execution_count": 16,
   "metadata": {},
   "outputs": [],
   "source": [
    "encoding_dim = 10\n",
    "\n",
    "encoded_input = Input(shape=(encoding_dim,))\n",
    "decoder = autoencoder.layers[-3](encoded_input)\n",
    "decoder = autoencoder.layers[-2](decoder)\n",
    "decoder = autoencoder.layers[-1](decoder)\n",
    "decoder = Model(encoded_input,decoder)"
   ]
  },
  {
   "cell_type": "code",
   "execution_count": 39,
   "metadata": {},
   "outputs": [
    {
     "name": "stdout",
     "output_type": "stream",
     "text": "Model: \"model_2\"\n_________________________________________________________________\nLayer (type)                 Output Shape              Param #   \n=================================================================\ninput_1 (InputLayer)         (None, 10)                0         \n_________________________________________________________________\ndense_3 (Dense)              (None, 128)               1408      \n_________________________________________________________________\ndense_4 (Dense)              (None, 512)               66048     \n_________________________________________________________________\ndense_5 (Dense)              (None, 784)               402192    \n=================================================================\nTotal params: 469,648\nTrainable params: 469,648\nNon-trainable params: 0\n_________________________________________________________________\n"
    }
   ],
   "source": [
    "decoder.summary()"
   ]
  },
  {
   "cell_type": "code",
   "execution_count": 44,
   "metadata": {},
   "outputs": [],
   "source": [
    "from keras.preprocessing import image"
   ]
  },
  {
   "cell_type": "code",
   "execution_count": null,
   "metadata": {},
   "outputs": [],
   "source": []
  }
 ],
 "metadata": {},
 "nbformat": 4,
 "nbformat_minor": 2
}