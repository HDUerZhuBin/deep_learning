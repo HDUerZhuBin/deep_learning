{
 "cells": [
  {
   "cell_type": "code",
   "execution_count": 1,
   "metadata": {},
   "outputs": [],
   "source": [
    "from __future__ import print_function\n",
    "\n",
    "import tensorflow as tf\n",
    "from tensorflow import keras\n",
    "\n",
    "from tensorflow.keras.datasets import mnist\n",
    "from tensorflow.keras.models import Sequential,Model\n",
    "from tensorflow.keras.layers import Dense,Dropout\n",
    "from tensorflow.keras.optimizers import RMSprop"
   ]
  },
  {
   "cell_type": "code",
   "execution_count": 2,
   "metadata": {},
   "outputs": [],
   "source": [
    "batch_size = 128 \n",
    "num_classes = 10\n",
    "epochs = 20  "
   ]
  },
  {
   "cell_type": "code",
   "execution_count": 3,
   "metadata": {},
   "outputs": [],
   "source": [
    "(train_data,train_labels),(test_data,test_labels) = mnist.load_data()\n",
    "\n",
    "train_data = train_data.reshape(train_data.shape[0],-1)\n",
    "test_data = test_data.reshape(test_data.shape[0],-1)\n",
    "train_data = train_data.astype(\"float32\")\n",
    "test_data = test_data.astype(\"float32\")\n",
    "train_data /= 255\n",
    "test_data /= 255\n",
    "\n",
    "train_labels = tf.keras.utils.to_categorical(y=train_labels,num_classes=num_classes)\n",
    "test_labels = tf.keras.utils.to_categorical(y=test_labels,num_classes=num_classes)"
   ]
  },
  {
   "cell_type": "code",
   "execution_count": 4,
   "metadata": {},
   "outputs": [],
   "source": [
    "input_shape = (train_data.shape[1],)\n",
    "\n",
    "model = Sequential()\n",
    "model.add(Dense(units=512,activation=\"relu\",input_shape=input_shape))\n",
    "model.add(Dropout(rate=0.2))\n",
    "model.add(Dense(units=512,activation=\"relu\"))\n",
    "model.add(Dropout(rate=0.2))\n",
    "model.add(Dense(units=num_classes,activation=\"softmax\"))"
   ]
  },
  {
   "cell_type": "code",
   "execution_count": 6,
   "metadata": {},
   "outputs": [
    {
     "name": "stdout",
     "output_type": "stream",
     "text": [
      "Model: \"sequential\"\n",
      "_________________________________________________________________\n",
      "Layer (type)                 Output Shape              Param #   \n",
      "=================================================================\n",
      "dense (Dense)                (None, 512)               401920    \n",
      "_________________________________________________________________\n",
      "dropout (Dropout)            (None, 512)               0         \n",
      "_________________________________________________________________\n",
      "dense_1 (Dense)              (None, 512)               262656    \n",
      "_________________________________________________________________\n",
      "dropout_1 (Dropout)          (None, 512)               0         \n",
      "_________________________________________________________________\n",
      "dense_2 (Dense)              (None, 10)                5130      \n",
      "=================================================================\n",
      "Total params: 669,706\n",
      "Trainable params: 669,706\n",
      "Non-trainable params: 0\n",
      "_________________________________________________________________\n"
     ]
    }
   ],
   "source": [
    "model.summary()"
   ]
  },
  {
   "cell_type": "code",
   "execution_count": 11,
   "metadata": {},
   "outputs": [],
   "source": [
    "loss = tf.keras.losses.categorical_crossentropy\n",
    "optimizer = tf.keras.optimizers.RMSprop()\n",
    "metrics = [\"accuracy\"]\n",
    "\n",
    "model.compile(loss=loss,\n",
    "             optimizer=optimizer,\n",
    "             metrics=metrics)"
   ]
  },
  {
   "cell_type": "code",
   "execution_count": 12,
   "metadata": {},
   "outputs": [
    {
     "name": "stdout",
     "output_type": "stream",
     "text": [
      "Train on 60000 samples, validate on 10000 samples\n",
      "Epoch 1/20\n",
      "60000/60000 [==============================] - 2s 25us/sample - loss: 0.2460 - accuracy: 0.9255 - val_loss: 0.1082 - val_accuracy: 0.9650\n",
      "Epoch 2/20\n",
      "60000/60000 [==============================] - 1s 18us/sample - loss: 0.1041 - accuracy: 0.9682 - val_loss: 0.0904 - val_accuracy: 0.9731\n",
      "Epoch 3/20\n",
      "60000/60000 [==============================] - 1s 18us/sample - loss: 0.0745 - accuracy: 0.9772 - val_loss: 0.0677 - val_accuracy: 0.9805\n",
      "Epoch 4/20\n",
      "60000/60000 [==============================] - 1s 18us/sample - loss: 0.0616 - accuracy: 0.9815 - val_loss: 0.0874 - val_accuracy: 0.9763\n",
      "Epoch 5/20\n",
      "60000/60000 [==============================] - 1s 21us/sample - loss: 0.0501 - accuracy: 0.9842 - val_loss: 0.0793 - val_accuracy: 0.9792\n",
      "Epoch 6/20\n",
      "60000/60000 [==============================] - 1s 18us/sample - loss: 0.0430 - accuracy: 0.9871 - val_loss: 0.0790 - val_accuracy: 0.9818\n",
      "Epoch 7/20\n",
      "60000/60000 [==============================] - 1s 18us/sample - loss: 0.0384 - accuracy: 0.9884 - val_loss: 0.0844 - val_accuracy: 0.9808\n",
      "Epoch 8/20\n",
      "60000/60000 [==============================] - 1s 18us/sample - loss: 0.0324 - accuracy: 0.9904 - val_loss: 0.0982 - val_accuracy: 0.9792\n",
      "Epoch 9/20\n",
      "60000/60000 [==============================] - 1s 21us/sample - loss: 0.0307 - accuracy: 0.9909 - val_loss: 0.0971 - val_accuracy: 0.9808\n",
      "Epoch 10/20\n",
      "60000/60000 [==============================] - 1s 18us/sample - loss: 0.0282 - accuracy: 0.9917 - val_loss: 0.0918 - val_accuracy: 0.9820\n",
      "Epoch 11/20\n",
      "60000/60000 [==============================] - 1s 18us/sample - loss: 0.0260 - accuracy: 0.9926 - val_loss: 0.0979 - val_accuracy: 0.9833\n",
      "Epoch 12/20\n",
      "60000/60000 [==============================] - 1s 18us/sample - loss: 0.0254 - accuracy: 0.9928 - val_loss: 0.0922 - val_accuracy: 0.9850\n",
      "Epoch 13/20\n",
      "60000/60000 [==============================] - 1s 18us/sample - loss: 0.0237 - accuracy: 0.9932 - val_loss: 0.0989 - val_accuracy: 0.9835\n",
      "Epoch 14/20\n",
      "60000/60000 [==============================] - 1s 21us/sample - loss: 0.0222 - accuracy: 0.9936 - val_loss: 0.0956 - val_accuracy: 0.9835\n",
      "Epoch 15/20\n",
      "60000/60000 [==============================] - 1s 18us/sample - loss: 0.0226 - accuracy: 0.9938 - val_loss: 0.1118 - val_accuracy: 0.9829\n",
      "Epoch 16/20\n",
      "60000/60000 [==============================] - 1s 20us/sample - loss: 0.0205 - accuracy: 0.9944 - val_loss: 0.1169 - val_accuracy: 0.9844\n",
      "Epoch 17/20\n",
      "60000/60000 [==============================] - 1s 20us/sample - loss: 0.0202 - accuracy: 0.9944 - val_loss: 0.0971 - val_accuracy: 0.9854\n",
      "Epoch 18/20\n",
      "60000/60000 [==============================] - 1s 22us/sample - loss: 0.0185 - accuracy: 0.9948 - val_loss: 0.1213 - val_accuracy: 0.9822\n",
      "Epoch 19/20\n",
      "60000/60000 [==============================] - 1s 19us/sample - loss: 0.0200 - accuracy: 0.9948 - val_loss: 0.1119 - val_accuracy: 0.9855\n",
      "Epoch 20/20\n",
      "60000/60000 [==============================] - 1s 19us/sample - loss: 0.0174 - accuracy: 0.9955 - val_loss: 0.1165 - val_accuracy: 0.9850\n"
     ]
    }
   ],
   "source": [
    "history = model.fit(train_data,train_labels,\n",
    "                   batch_size=batch_size,\n",
    "                   epochs=epochs,\n",
    "                   verbose=1,\n",
    "                   validation_data=(test_data,test_labels))"
   ]
  },
  {
   "cell_type": "code",
   "execution_count": 13,
   "metadata": {},
   "outputs": [
    {
     "name": "stdout",
     "output_type": "stream",
     "text": [
      "10000/10000 [==============================] - 0s 31us/sample - loss: 0.1165 - accuracy: 0.9850\n"
     ]
    }
   ],
   "source": [
    "score = model.evaluate(test_data,test_labels,verbose=1)"
   ]
  },
  {
   "cell_type": "code",
   "execution_count": 14,
   "metadata": {},
   "outputs": [
    {
     "name": "stdout",
     "output_type": "stream",
     "text": [
      "the loss:0.11652785069659537\n",
      "the accuracy:0.9850000143051147\n"
     ]
    }
   ],
   "source": [
    "print(\"the loss:{}\".format(score[0]))\n",
    "print(\"the accuracy:{}\".format(score[1]))"
   ]
  },
  {
   "cell_type": "code",
   "execution_count": null,
   "metadata": {},
   "outputs": [],
   "source": []
  }
 ],
 "metadata": {
  "kernelspec": {
   "display_name": "Python 3",
   "language": "python",
   "name": "python3"
  },
  "language_info": {
   "codemirror_mode": {
    "name": "ipython",
    "version": 3
   },
   "file_extension": ".py",
   "mimetype": "text/x-python",
   "name": "python",
   "nbconvert_exporter": "python",
   "pygments_lexer": "ipython3",
   "version": "3.7.1"
  }
 },
 "nbformat": 4,
 "nbformat_minor": 2
}
