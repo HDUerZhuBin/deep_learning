{
 "cells": [
  {
   "cell_type": "code",
   "execution_count": 1,
   "metadata": {},
   "outputs": [],
   "source": [
    "from __future__ import print_function\n",
    "\n",
    "import tensorflow as tf\n",
    "from tensorflow import keras\n",
    "\n",
    "from tensorflow.keras.datasets import mnist\n",
    "from tensorflow.keras.models import Sequential\n",
    "from tensorflow.keras.layers import Dense,Dropout,Flatten\n",
    "from tensorflow.keras.layers import Conv2D,MaxPooling2D\n",
    "from tensorflow.keras import backend as K "
   ]
  },
  {
   "cell_type": "code",
   "execution_count": 2,
   "metadata": {},
   "outputs": [],
   "source": [
    "batch_size = 128\n",
    "num_classes = 10\n",
    "epochs = 12\n",
    "\n",
    "image_rows = image_cols = 28"
   ]
  },
  {
   "cell_type": "code",
   "execution_count": 3,
   "metadata": {},
   "outputs": [],
   "source": [
    "(train_data,train_labels),(test_data,test_labels) = mnist.load_data()"
   ]
  },
  {
   "cell_type": "code",
   "execution_count": 4,
   "metadata": {},
   "outputs": [
    {
     "data": {
      "text/plain": [
       "'channels_last'"
      ]
     },
     "execution_count": 4,
     "metadata": {},
     "output_type": "execute_result"
    }
   ],
   "source": [
    "K.image_data_format()"
   ]
  },
  {
   "cell_type": "code",
   "execution_count": null,
   "metadata": {},
   "outputs": [],
   "source": [
    "if K.image_data_format()==\"channels_first\":\n",
    "    train_data = train_data.reshape(train_data.shape[0],1,image_rows,image_cols)\n",
    "    test_data = test_data.reshape(test_data.shape[0],1,image_rows,image_cols)\n",
    "    input_shape = (1,image_rows,image_cols)\n",
    "else:\n",
    "    train_data = train_data.reshape(train_data.shape[0],image_rows,image_cols,1)\n",
    "    test_data = test_data.reshape(test_data.shape[0],image_rows,image_cols,1)\n",
    "    input_shape = (image_rows,image_cols,1)\n",
    "    \n",
    "train_data = train_data.astype(\"float32\")\n",
    "test_data = test_data.astype(\"float32\")\n",
    "train_data /= 255\n",
    "test_data /= 255\n",
    "\n",
    "train_labels = tf.keras.utils.to_categorical(y=train_labels,num_classes=num_classes)\n",
    "test_labels = tf.keras.utils.to_categorical(y=test_labels,num_classes=num_classes)"
   ]
  },
  {
   "cell_type": "code",
   "execution_count": null,
   "metadata": {},
   "outputs": [],
   "source": [
    "model = Sequential()\n",
    "model.add(Conv2D(filters=32,kernel_size=(3,3),activation=\"relu\",input_shape=input_shape))\n",
    "model.add(Conv2D(filters=64,kernel_size=(3,3),activation=\"relu\"))\n",
    "model.add(MaxPooling2D(pool_size=(2,2)))\n",
    "model.add(Dropout(rate=0.25))\n",
    "model.add(Flatten())\n",
    "model.add(Dense(units=128,activation=\"relu\"))\n",
    "model.add(Dropout(rate=0.5))\n",
    "model.add(Dense(units=num_classes,activation=\"softmax\"))"
   ]
  },
  {
   "cell_type": "code",
   "execution_count": null,
   "metadata": {},
   "outputs": [],
   "source": [
    "loss = tf.keras.losses.categorical_crossentropy\n",
    "optimizer = tf.keras.optimizers.Adadelta()\n",
    "metrics = [\"accuracy\"]\n",
    "\n",
    "model.compile(loss=loss,\n",
    "             optimizer=optimizer,\n",
    "             metrics=metrics)"
   ]
  },
  {
   "cell_type": "code",
   "execution_count": null,
   "metadata": {},
   "outputs": [
    {
     "name": "stdout",
     "output_type": "stream",
     "text": [
      "Train on 60000 samples, validate on 10000 samples\n",
      "Epoch 1/12\n",
      "60000/60000 [==============================] - 5s 90us/sample - loss: 2.2882 - accuracy: 0.1406 - val_loss: 2.2669 - val_accuracy: 0.3155\n",
      "Epoch 2/12\n",
      "60000/60000 [==============================] - 4s 67us/sample - loss: 2.2535 - accuracy: 0.2411 - val_loss: 2.2237 - val_accuracy: 0.4926\n",
      "Epoch 3/12\n",
      "60000/60000 [==============================] - 4s 64us/sample - loss: 2.2076 - accuracy: 0.3293 - val_loss: 2.1632 - val_accuracy: 0.6040\n",
      "Epoch 4/12\n",
      "60000/60000 [==============================] - 4s 63us/sample - loss: 2.1432 - accuracy: 0.4033 - val_loss: 2.0803 - val_accuracy: 0.6575\n",
      "Epoch 5/12\n",
      "60000/60000 [==============================] - 4s 66us/sample - loss: 2.0570 - accuracy: 0.4615 - val_loss: 1.9688 - val_accuracy: 0.6994\n",
      "Epoch 6/12\n",
      "60000/60000 [==============================] - 4s 63us/sample - loss: 1.9399 - accuracy: 0.5150 - val_loss: 1.8206 - val_accuracy: 0.7315\n",
      "Epoch 7/12\n",
      "60000/60000 [==============================] - 4s 67us/sample - loss: 1.7961 - accuracy: 0.5592 - val_loss: 1.6375 - val_accuracy: 0.7601\n",
      "Epoch 8/12\n",
      "60000/60000 [==============================] - 4s 67us/sample - loss: 1.6315 - accuracy: 0.5962 - val_loss: 1.4379 - val_accuracy: 0.7828\n",
      "Epoch 9/12\n",
      "60000/60000 [==============================] - 4s 70us/sample - loss: 1.4617 - accuracy: 0.6273 - val_loss: 1.2432 - val_accuracy: 0.8008\n",
      "Epoch 10/12\n",
      "59264/60000 [============================>.] - ETA: 0s - loss: 1.3143 - accuracy: 0.6485"
     ]
    }
   ],
   "source": [
    "model.fit(train_data,train_labels,\n",
    "         batch_size=batch_size,\n",
    "         epochs=epochs,\n",
    "         verbose=1,\n",
    "         validation_data=(test_data,test_labels))\n",
    "\n",
    "score = model.evaluate(test_data,test_labels,verbose=1)\n",
    "print(\"loss:{}\".format(score[0]))\n",
    "print(\"accuracy:{}\".format(score[1]))"
   ]
  }
 ],
 "metadata": {
  "kernelspec": {
   "display_name": "Python 3",
   "language": "python",
   "name": "python3"
  },
  "language_info": {
   "codemirror_mode": {
    "name": "ipython",
    "version": 3
   },
   "file_extension": ".py",
   "mimetype": "text/x-python",
   "name": "python",
   "nbconvert_exporter": "python",
   "pygments_lexer": "ipython3",
   "version": "3.7.1"
  }
 },
 "nbformat": 4,
 "nbformat_minor": 2
}
