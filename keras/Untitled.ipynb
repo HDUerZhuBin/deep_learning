{
 "cells": [
  {
   "cell_type": "code",
   "execution_count": 1,
   "metadata": {},
   "outputs": [],
   "source": [
    "from __future__ import print_function\n",
    "\n",
    "import numpy as np\n",
    "import os\n",
    "\n",
    "\n",
    "import tensorflow as tf\n",
    "from tensorflow import keras\n",
    "\n",
    "from tensorflow.keras import backend as K\n",
    "\n",
    "from tensorflow.keras.datasets import cifar100\n",
    "\n",
    "from tensorflow.keras.models import Model\n",
    "\n",
    "from tensorflow.keras.layers import Dense,Dropout,Activation,BatchNormalization\n",
    "from tensorflow.keras.layers import AveragePooling2D,Input,Flatten\n",
    "\n",
    "from tensorflow.keras.optimizers import Adam\n",
    "from tensorflow.keras.callbacks import ModelCheckpoint,LearningRateScheduler\n",
    "from tensorflow.keras.callbacks import ReduceLROnPlateau\n",
    "from tensorflow.keras.preprocessing.image import ImageDataGenerator\n",
    "from tensorflow.keras.regularizers import l2"
   ]
  },
  {
   "cell_type": "code",
   "execution_count": 2,
   "metadata": {},
   "outputs": [],
   "source": [
    "batch_size = 32\n",
    "epochs = 200\n",
    "verbose = 1\n",
    "data_augmentation = True\n",
    "num_classes = 100\n",
    "\n",
    "subtract_pixel_mean = True"
   ]
  },
  {
   "cell_type": "code",
   "execution_count": 6,
   "metadata": {},
   "outputs": [],
   "source": [
    "n = 3\n",
    "version = 1\n",
    "\n",
    "if version == 1:\n",
    "    depth = n * 6 + 2\n",
    "elif version == 2:\n",
    "    depth = n * 9 + 2\n",
    "    \n",
    "model_type = \"ResNet%dv%d\" % (depth,version)"
   ]
  },
  {
   "cell_type": "code",
   "execution_count": 16,
   "metadata": {},
   "outputs": [],
   "source": [
    "(train_data,train_labels),(test_data,test_labels) = cifar100.load_data()\n",
    "\n",
    "input_shape = train_data.shape[1:]\n",
    "\n",
    "train_data = train_data.astype(\"float32\")/255.0\n",
    "test_data = test_data.astype(\"float32\")/255.0\n",
    "train_labels = tf.keras.utils.to_categorical(y=train_labels,num_classes=num_classes)\n",
    "test_labels = tf.keras.utils.to_categorical(y=test_labels,num_classes=num_classes)"
   ]
  },
  {
   "cell_type": "code",
   "execution_count": 18,
   "metadata": {},
   "outputs": [],
   "source": [
    "def lr_schedule(epoch):\n",
    "    \"\"\"learning rate schedule\n",
    "    \n",
    "    learning rate is schedule to be reduced after 80,120,160,180 epochs.\n",
    "    called automatically every epoch as part of callbacks during training.\n",
    "    \n",
    "    #Arguments\n",
    "        epoch(int):the number of epochs\n",
    "        \n",
    "    #Return\n",
    "        lr(float32):learning rate\n",
    "    \"\"\"\n",
    "    \n",
    "    lr = 1e-3\n",
    "    if epoch > 180:\n",
    "        lr *= 0.5e-3\n",
    "    elif epoch > 160:\n",
    "        lr *= 1e-3\n",
    "    elif epoch > 120:\n",
    "        lr *= 1e-3\n",
    "    elif epoch > 80:\n",
    "        lr *= 1e-1\n",
    "    print(\"learining rate: \",lr)\n",
    "    return lr"
   ]
  },
  {
   "cell_type": "code",
   "execution_count": 20,
   "metadata": {},
   "outputs": [],
   "source": [
    "def resnet_layer(inputs,\n",
    "                num_filters=16,\n",
    "                kernel_size=3,\n",
    "                strides=1,\n",
    "                activation=\"relu\",\n",
    "                batch_normalization=True,\n",
    "                conv_first=True):\n",
    "    conv = Conv2D(filters=num_filters,\n",
    "                 kernel_size=kernel_size,\n",
    "                 padding=\"same\",\n",
    "                 kernel_initializer=\"he_normal\",\n",
    "                 kernel_regularizer=l2(1e-4))\n",
    "    x = inputs\n",
    "    if conv_first:\n",
    "        x = conv(x)\n",
    "        if batch_normalization:\n",
    "            x = BatchNormalization(x)\n",
    "        if activation is not None:\n",
    "            x = Activation(activation=activation)(x)\n",
    "    else:\n",
    "        if BatchNormalization:\n",
    "            x = BatchNormalization(x)\n",
    "        if activation is not None:\n",
    "            x = Activation(activation=activation)\n",
    "            x = conv(x)\n",
    "            \n",
    "    return x"
   ]
  },
  {
   "cell_type": "code",
   "execution_count": null,
   "metadata": {},
   "outputs": [],
   "source": [
    "def resnet_v1(input_shape,depth,num_classes=100):\n",
    "    \"\"\"ResNet Version1 Model builder [a]\n",
    "    Stacks of 2*(3*3) conv2D-BN-Relu\n",
    "    Last Relu is after the shortcut connection\n",
    "    At the beginning of each of stage,the feature map size is halved(downsampled)\n",
    "    by a convolutional layer with strides=2,while the number of filters is \n",
    "    doubled.With each stage,the layers have the same number filters and the \n",
    "    same number of filters.\n",
    "    Features maps sizes:\n",
    "    stage 0:\n",
    "    \n",
    "    \"\"\""
   ]
  }
 ],
 "metadata": {
  "kernelspec": {
   "display_name": "Python 3",
   "language": "python",
   "name": "python3"
  },
  "language_info": {
   "codemirror_mode": {
    "name": "ipython",
    "version": 3
   },
   "file_extension": ".py",
   "mimetype": "text/x-python",
   "name": "python",
   "nbconvert_exporter": "python",
   "pygments_lexer": "ipython3",
   "version": "3.7.1"
  }
 },
 "nbformat": 4,
 "nbformat_minor": 2
}
